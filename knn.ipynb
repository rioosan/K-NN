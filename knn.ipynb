{
  "nbformat": 4,
  "nbformat_minor": 0,
  "metadata": {
    "colab": {
      "name": "knn.ipynb",
      "provenance": []
    },
    "kernelspec": {
      "name": "python3",
      "display_name": "Python 3"
    },
    "language_info": {
      "name": "python"
    }
  },
  "cells": [
    {
      "cell_type": "code",
      "metadata": {
        "id": "4gb62yhTR7sH"
      },
      "source": [
        "import numpy as np\n",
        "import matplotlib.pyplot as plt\n",
        "import pandas as pd"
      ],
      "execution_count": 1,
      "outputs": []
    },
    {
      "cell_type": "code",
      "metadata": {
        "id": "D9FG3qM8Sps3"
      },
      "source": [
        "dataset = pd.read_csv(\"data_jumlah_penderita_dbd.csv\")\n",
        "x = dataset.iloc[:,[2, 3]].values\n",
        "y = dataset.iloc[:, -1].values"
      ],
      "execution_count": 2,
      "outputs": []
    },
    {
      "cell_type": "code",
      "metadata": {
        "colab": {
          "base_uri": "https://localhost:8080/"
        },
        "id": "Bkt4pvxNSsp7",
        "outputId": "18ad6e02-928d-4459-a697-0c9b2af6da8c"
      },
      "source": [
        "print(x)"
      ],
      "execution_count": 3,
      "outputs": [
        {
          "output_type": "stream",
          "text": [
            "[[ 1 10]\n",
            " [ 2  0]\n",
            " [ 3  5]\n",
            " [ 4  4]\n",
            " [ 5 15]\n",
            " [ 6  4]\n",
            " [ 7 13]\n",
            " [ 8  7]\n",
            " [ 9  6]\n",
            " [10  8]\n",
            " [11 18]\n",
            " [12  4]\n",
            " [ 1  9]\n",
            " [ 2  0]\n",
            " [ 3 10]\n",
            " [ 4  4]\n",
            " [ 5 31]\n",
            " [ 6 15]\n",
            " [ 7 27]\n",
            " [ 8 15]\n",
            " [ 9 44]\n",
            " [10  7]\n",
            " [11 10]\n",
            " [12  4]\n",
            " [ 1 32]\n",
            " [ 2  2]\n",
            " [ 3 26]\n",
            " [ 4  6]\n",
            " [ 5 57]\n",
            " [ 6 34]\n",
            " [ 7 32]\n",
            " [ 8 20]\n",
            " [ 9 28]\n",
            " [10 14]\n",
            " [11 13]\n",
            " [12  5]\n",
            " [ 1 16]\n",
            " [ 2  4]\n",
            " [ 3 21]\n",
            " [ 4  8]\n",
            " [ 5 12]\n",
            " [ 6  4]\n",
            " [ 7  6]\n",
            " [ 8  5]\n",
            " [ 9 23]\n",
            " [10 20]\n",
            " [11 41]\n",
            " [12 12]\n",
            " [ 1 28]\n",
            " [ 2  4]\n",
            " [ 3 35]\n",
            " [ 4 29]\n",
            " [ 5 17]\n",
            " [ 6  8]\n",
            " [ 7 19]\n",
            " [ 8  5]\n",
            " [ 9 52]\n",
            " [10 21]\n",
            " [11 15]\n",
            " [12 11]\n",
            " [ 1 24]\n",
            " [ 2  8]\n",
            " [ 3 36]\n",
            " [ 4 12]\n",
            " [ 5 22]\n",
            " [ 6 12]\n",
            " [ 7 14]\n",
            " [ 8 21]\n",
            " [ 9 30]\n",
            " [10 20]\n",
            " [11 45]\n",
            " [12 41]\n",
            " [ 1 23]\n",
            " [ 2 20]\n",
            " [ 3 29]\n",
            " [ 4 20]\n",
            " [ 5 12]\n",
            " [ 6  9]\n",
            " [ 7 16]\n",
            " [ 8  9]\n",
            " [ 9 16]\n",
            " [10 16]\n",
            " [11 42]\n",
            " [12 14]\n",
            " [ 1  0]\n",
            " [ 2  0]\n",
            " [ 3  0]\n",
            " [ 4  0]]\n"
          ],
          "name": "stdout"
        }
      ]
    },
    {
      "cell_type": "code",
      "metadata": {
        "colab": {
          "base_uri": "https://localhost:8080/"
        },
        "id": "TX4VX_paSwRR",
        "outputId": "b8b1f4af-a091-4e91-8c78-b449f5bbd1b9"
      },
      "source": [
        "print(y)"
      ],
      "execution_count": 4,
      "outputs": [
        {
          "output_type": "stream",
          "text": [
            "[0 0 0 1 0 1 0 0 1 0 0 1 0 0 0 1 0 0 1 0 0 0 1 0 0 0 0 0 1 0 0 0 1 0 0 0 0\n",
            " 1 0 0 0 1 0 0 0 1 0 0 1 0 0 1 0 0 1 0 0 1 0 0 0 0 1 0 0 0 0 0 0 0 0 1 0 0\n",
            " 0 0 1 0 0 1 0 0 0 1 0 0 0 0]\n"
          ],
          "name": "stdout"
        }
      ]
    },
    {
      "cell_type": "code",
      "metadata": {
        "id": "PAmwCil_SzO1"
      },
      "source": [
        "from sklearn.model_selection import train_test_split\n",
        "x_train, x_test, y_train, y_test = train_test_split(x, y, test_size = 0.25, random_state = 0)"
      ],
      "execution_count": 5,
      "outputs": []
    },
    {
      "cell_type": "code",
      "metadata": {
        "colab": {
          "base_uri": "https://localhost:8080/"
        },
        "id": "hK683IxSS4i5",
        "outputId": "f9125130-53d7-49c0-c927-3acd423dd8ce"
      },
      "source": [
        "print(x_train)"
      ],
      "execution_count": 6,
      "outputs": [
        {
          "output_type": "stream",
          "text": [
            "[[ 2  8]\n",
            " [ 1 28]\n",
            " [ 8  9]\n",
            " [ 7 19]\n",
            " [ 1 23]\n",
            " [ 7 16]\n",
            " [10 16]\n",
            " [ 4  4]\n",
            " [ 3 36]\n",
            " [ 3 29]\n",
            " [ 4  6]\n",
            " [ 7 27]\n",
            " [ 3 35]\n",
            " [ 4 29]\n",
            " [ 2 20]\n",
            " [12 11]\n",
            " [ 8  5]\n",
            " [ 5 15]\n",
            " [ 4  4]\n",
            " [ 6 15]\n",
            " [ 5 12]\n",
            " [ 3 21]\n",
            " [ 6  4]\n",
            " [ 9 16]\n",
            " [ 9 30]\n",
            " [ 1 10]\n",
            " [11 13]\n",
            " [ 5 57]\n",
            " [12  4]\n",
            " [12  5]\n",
            " [12  4]\n",
            " [ 5 17]\n",
            " [11 18]\n",
            " [ 8 20]\n",
            " [ 1 24]\n",
            " [10 21]\n",
            " [12 41]\n",
            " [ 2  0]\n",
            " [ 9 28]\n",
            " [ 4 20]\n",
            " [ 3 10]\n",
            " [12 14]\n",
            " [ 8 15]\n",
            " [ 6 34]\n",
            " [ 2  4]\n",
            " [ 2  0]\n",
            " [ 3  0]\n",
            " [10 20]\n",
            " [ 9 44]\n",
            " [11 42]\n",
            " [ 2  2]\n",
            " [ 2  4]\n",
            " [11 41]\n",
            " [ 4  8]\n",
            " [ 6 12]\n",
            " [11 15]\n",
            " [ 1  9]\n",
            " [11 45]\n",
            " [ 1 16]\n",
            " [10  7]\n",
            " [10  8]\n",
            " [ 1  0]\n",
            " [ 8 21]\n",
            " [ 5 22]\n",
            " [12 12]\n",
            " [ 9 23]]\n"
          ],
          "name": "stdout"
        }
      ]
    },
    {
      "cell_type": "code",
      "metadata": {
        "colab": {
          "base_uri": "https://localhost:8080/"
        },
        "id": "APnjg3EzS8aW",
        "outputId": "cadab2be-4471-444e-d942-7cb2c4ccbf11"
      },
      "source": [
        "print(x_test)"
      ],
      "execution_count": 7,
      "outputs": [
        {
          "output_type": "stream",
          "text": [
            "[[ 3  5]\n",
            " [ 2  0]\n",
            " [ 6  8]\n",
            " [ 6  4]\n",
            " [ 7 14]\n",
            " [ 7 32]\n",
            " [10 20]\n",
            " [ 8  5]\n",
            " [ 6  9]\n",
            " [ 4  0]\n",
            " [ 8  7]\n",
            " [ 3 26]\n",
            " [10 14]\n",
            " [ 4 12]\n",
            " [ 9  6]\n",
            " [ 5 31]\n",
            " [ 1 32]\n",
            " [ 9 52]\n",
            " [ 5 12]\n",
            " [ 7  6]\n",
            " [11 10]\n",
            " [ 7 13]]\n"
          ],
          "name": "stdout"
        }
      ]
    },
    {
      "cell_type": "code",
      "metadata": {
        "colab": {
          "base_uri": "https://localhost:8080/"
        },
        "id": "hQs13GmZS_cU",
        "outputId": "4ea8f28f-6b54-4a54-eb0e-cacb8002215e"
      },
      "source": [
        "print(y_train)"
      ],
      "execution_count": 8,
      "outputs": [
        {
          "output_type": "stream",
          "text": [
            "[0 1 1 1 0 0 0 1 1 0 0 1 0 1 0 0 0 0 1 0 0 0 1 0 0 0 0 1 1 0 0 0 0 0 0 1 1\n",
            " 0 1 0 0 1 0 0 0 0 0 0 0 0 0 1 0 0 0 0 0 0 0 0 0 0 0 0 0 0]\n"
          ],
          "name": "stdout"
        }
      ]
    },
    {
      "cell_type": "code",
      "metadata": {
        "colab": {
          "base_uri": "https://localhost:8080/"
        },
        "id": "q9dbPmEHTC-O",
        "outputId": "17e87dd2-b88f-46d7-d2b7-81dd4dc20d04"
      },
      "source": [
        "print(y_test)"
      ],
      "execution_count": 9,
      "outputs": [
        {
          "output_type": "stream",
          "text": [
            "[0 0 0 1 0 0 1 0 0 0 0 0 0 0 1 0 0 0 1 0 1 0]\n"
          ],
          "name": "stdout"
        }
      ]
    },
    {
      "cell_type": "code",
      "metadata": {
        "id": "Q4SoSANMTHrx"
      },
      "source": [
        "from sklearn.preprocessing import StandardScaler\n",
        "sc = StandardScaler()\n",
        "x_train = sc.fit_transform(x_train)\n",
        "x_test = sc.transform(x_test)"
      ],
      "execution_count": 10,
      "outputs": []
    },
    {
      "cell_type": "code",
      "metadata": {
        "colab": {
          "base_uri": "https://localhost:8080/"
        },
        "id": "_Ta_-YOhTKWx",
        "outputId": "c840b301-4d06-4920-ece7-41c1d5a080d0"
      },
      "source": [
        "print(x_train)"
      ],
      "execution_count": 11,
      "outputs": [
        {
          "output_type": "stream",
          "text": [
            "[[-1.1653006  -0.74175204]\n",
            " [-1.43421613  0.83746198]\n",
            " [ 0.44819254 -0.66279134]\n",
            " [ 0.17927702  0.12681567]\n",
            " [-1.43421613  0.44265848]\n",
            " [ 0.17927702 -0.11006643]\n",
            " [ 0.98602359 -0.11006643]\n",
            " [-0.62746955 -1.05759484]\n",
            " [-0.89638508  1.46914759]\n",
            " [-0.89638508  0.91642268]\n",
            " [-0.62746955 -0.89967344]\n",
            " [ 0.17927702  0.75850128]\n",
            " [-0.89638508  1.39018689]\n",
            " [-0.62746955  0.91642268]\n",
            " [-1.1653006   0.20577637]\n",
            " [ 1.52385463 -0.50486994]\n",
            " [ 0.44819254 -0.97863414]\n",
            " [-0.35855403 -0.18902713]\n",
            " [-0.62746955 -1.05759484]\n",
            " [-0.08963851 -0.18902713]\n",
            " [-0.35855403 -0.42590924]\n",
            " [-0.89638508  0.28473707]\n",
            " [-0.08963851 -1.05759484]\n",
            " [ 0.71710806 -0.11006643]\n",
            " [ 0.71710806  0.99538338]\n",
            " [-1.43421613 -0.58383064]\n",
            " [ 1.25493911 -0.34694854]\n",
            " [-0.35855403  3.12732231]\n",
            " [ 1.52385463 -1.05759484]\n",
            " [ 1.52385463 -0.97863414]\n",
            " [ 1.52385463 -1.05759484]\n",
            " [-0.35855403 -0.03110573]\n",
            " [ 1.25493911  0.04785497]\n",
            " [ 0.44819254  0.20577637]\n",
            " [-1.43421613  0.52161918]\n",
            " [ 0.98602359  0.28473707]\n",
            " [ 1.52385463  1.8639511 ]\n",
            " [-1.1653006  -1.37343765]\n",
            " [ 0.71710806  0.83746198]\n",
            " [-0.62746955  0.20577637]\n",
            " [-0.89638508 -0.58383064]\n",
            " [ 1.52385463 -0.26798783]\n",
            " [ 0.44819254 -0.18902713]\n",
            " [-0.08963851  1.31122619]\n",
            " [-1.1653006  -1.05759484]\n",
            " [-1.1653006  -1.37343765]\n",
            " [-0.89638508 -1.37343765]\n",
            " [ 0.98602359  0.20577637]\n",
            " [ 0.71710806  2.1008332 ]\n",
            " [ 1.25493911  1.9429118 ]\n",
            " [-1.1653006  -1.21551625]\n",
            " [-1.1653006  -1.05759484]\n",
            " [ 1.25493911  1.8639511 ]\n",
            " [-0.62746955 -0.74175204]\n",
            " [-0.08963851 -0.42590924]\n",
            " [ 1.25493911 -0.18902713]\n",
            " [-1.43421613 -0.66279134]\n",
            " [ 1.25493911  2.1797939 ]\n",
            " [-1.43421613 -0.11006643]\n",
            " [ 0.98602359 -0.82071274]\n",
            " [ 0.98602359 -0.74175204]\n",
            " [-1.43421613 -1.37343765]\n",
            " [ 0.44819254  0.28473707]\n",
            " [-0.35855403  0.36369777]\n",
            " [ 1.52385463 -0.42590924]\n",
            " [ 0.71710806  0.44265848]]\n"
          ],
          "name": "stdout"
        }
      ]
    },
    {
      "cell_type": "code",
      "metadata": {
        "colab": {
          "base_uri": "https://localhost:8080/"
        },
        "id": "m44S9EOkTPk-",
        "outputId": "7134d456-59c1-4870-e300-3996a9900730"
      },
      "source": [
        "print(x_test)"
      ],
      "execution_count": 12,
      "outputs": [
        {
          "output_type": "stream",
          "text": [
            "[[-0.89638508 -0.97863414]\n",
            " [-1.1653006  -1.37343765]\n",
            " [-0.08963851 -0.74175204]\n",
            " [-0.08963851 -1.05759484]\n",
            " [ 0.17927702 -0.26798783]\n",
            " [ 0.17927702  1.15330479]\n",
            " [ 0.98602359  0.20577637]\n",
            " [ 0.44819254 -0.97863414]\n",
            " [-0.08963851 -0.66279134]\n",
            " [-0.62746955 -1.37343765]\n",
            " [ 0.44819254 -0.82071274]\n",
            " [-0.89638508  0.67954058]\n",
            " [ 0.98602359 -0.26798783]\n",
            " [-0.62746955 -0.42590924]\n",
            " [ 0.71710806 -0.89967344]\n",
            " [-0.35855403  1.07434408]\n",
            " [-1.43421613  1.15330479]\n",
            " [ 0.71710806  2.73251881]\n",
            " [-0.35855403 -0.42590924]\n",
            " [ 0.17927702 -0.89967344]\n",
            " [ 1.25493911 -0.58383064]\n",
            " [ 0.17927702 -0.34694854]]\n"
          ],
          "name": "stdout"
        }
      ]
    },
    {
      "cell_type": "code",
      "metadata": {
        "colab": {
          "base_uri": "https://localhost:8080/"
        },
        "id": "EsvQySzBTUIu",
        "outputId": "8a41497d-5228-49b1-90ca-506b8fac978e"
      },
      "source": [
        "from sklearn.neighbors import KNeighborsClassifier\n",
        "classifier = KNeighborsClassifier(n_neighbors = 5, metric = 'minkowski', p = 2)\n",
        "classifier.fit(x_train, y_train)"
      ],
      "execution_count": 13,
      "outputs": [
        {
          "output_type": "execute_result",
          "data": {
            "text/plain": [
              "KNeighborsClassifier(algorithm='auto', leaf_size=30, metric='minkowski',\n",
              "                     metric_params=None, n_jobs=None, n_neighbors=5, p=2,\n",
              "                     weights='uniform')"
            ]
          },
          "metadata": {
            "tags": []
          },
          "execution_count": 13
        }
      ]
    },
    {
      "cell_type": "code",
      "metadata": {
        "id": "n-ZNV4JMTyJL"
      },
      "source": [
        "y_pred = classifier.predict(x_test)"
      ],
      "execution_count": 14,
      "outputs": []
    },
    {
      "cell_type": "code",
      "metadata": {
        "colab": {
          "base_uri": "https://localhost:8080/"
        },
        "id": "ja-X1-8ST2-7",
        "outputId": "f0c7dcaa-8003-4859-bed6-9094ee2b785a"
      },
      "source": [
        "from sklearn.metrics import confusion_matrix\n",
        "cm = confusion_matrix(y_test, y_pred)\n",
        "print(cm)"
      ],
      "execution_count": 15,
      "outputs": [
        {
          "output_type": "stream",
          "text": [
            "[[15  2]\n",
            " [ 4  1]]\n"
          ],
          "name": "stdout"
        }
      ]
    },
    {
      "cell_type": "code",
      "metadata": {
        "colab": {
          "base_uri": "https://localhost:8080/",
          "height": 352
        },
        "id": "hZSb5DKKT8im",
        "outputId": "575d2f08-411c-4014-f775-88b9a124de33"
      },
      "source": [
        "from matplotlib.colors import ListedColormap\n",
        "x_set, y_set = x_train, y_train\n",
        "x1, x2 = np.meshgrid(np.arange(start = x_set[:, 0].min()-1, stop = x_set[:, 0].max()+1, step = 0.01),\n",
        "                     np.arange(start = x_set[:, 1].min()-1, stop = x_set[:, 1].max()+1, step = 0.01))\n",
        "plt.contourf(x1,x2, classifier.predict(np.array([x1.ravel(), x2.ravel()]).T).reshape(x1.shape), \n",
        "             alpha = 0.75, cmap = ListedColormap(('red', 'green')))\n",
        "plt.xlim(x1.min(), x1.max())\n",
        "plt.ylim(x2.min(), x2.max())\n",
        "for i, j in enumerate(np.unique(y_set)):\n",
        "  plt.scatter(x_set[y_set == j, 0], x_set[y_set == j, 1], c = ListedColormap(('red', 'green'))(i), label = j)\n",
        "plt.title('K-NN (training set)')\n",
        "plt.xlabel('bulan')\n",
        "plt.ylabel('penderita DBD')\n",
        "plt.legend()\n",
        "plt.show()"
      ],
      "execution_count": 16,
      "outputs": [
        {
          "output_type": "stream",
          "text": [
            "*c* argument looks like a single numeric RGB or RGBA sequence, which should be avoided as value-mapping will have precedence in case its length matches with *x* & *y*.  Please use the *color* keyword-argument or provide a 2-D array with a single row if you intend to specify the same RGB or RGBA value for all points.\n",
            "*c* argument looks like a single numeric RGB or RGBA sequence, which should be avoided as value-mapping will have precedence in case its length matches with *x* & *y*.  Please use the *color* keyword-argument or provide a 2-D array with a single row if you intend to specify the same RGB or RGBA value for all points.\n"
          ],
          "name": "stderr"
        },
        {
          "output_type": "display_data",
          "data": {
            "image/png": "[encoded data removed]",
            "text/plain": [
              "<Figure size 432x288 with 1 Axes>"
            ]
          },
          "metadata": {
            "tags": [],
            "needs_background": "light"
          }
        }
      ]
    },
    {
      "cell_type": "code",
      "metadata": {
        "colab": {
          "base_uri": "https://localhost:8080/",
          "height": 352
        },
        "id": "vIbhYykKUbYE",
        "outputId": "e4f14316-0e80-4171-bedf-4999bacd6259"
      },
      "source": [
        "from matplotlib.colors import ListedColormap\n",
        "x_set, y_set = x_test, y_test\n",
        "x1, x2 = np.meshgrid(np.arange(start = x_set[:, 0].min()-1, stop = x_set[:, 0].max()+1, step = 0.01),\n",
        "                     np.arange(start = x_set[:, 1].min()-1, stop = x_set[:, 1].max()+1, step = 0.01))\n",
        "plt.contourf(x1,x2, classifier.predict(np.array([x1.ravel(), x2.ravel()]).T).reshape(x1.shape), \n",
        "             alpha = 0.75, cmap = ListedColormap(('red', 'green')))\n",
        "plt.xlim(x1.min(), x1.max())\n",
        "plt.ylim(x2.min(), x2.max())\n",
        "for i, j in enumerate(np.unique(y_set)):\n",
        "  plt.scatter(x_set[y_set == j, 0], x_set[y_set == j, 1], c = ListedColormap(('red', 'green'))(i), label = j)\n",
        "plt.title('K-NN (training set)')\n",
        "plt.xlabel('bulan')\n",
        "plt.ylabel('penderita DBD')\n",
        "plt.legend()\n",
        "plt.show()"
      ],
      "execution_count": 17,
      "outputs": [
        {
          "output_type": "stream",
          "text": [
            "*c* argument looks like a single numeric RGB or RGBA sequence, which should be avoided as value-mapping will have precedence in case its length matches with *x* & *y*.  Please use the *color* keyword-argument or provide a 2-D array with a single row if you intend to specify the same RGB or RGBA value for all points.\n",
            "*c* argument looks like a single numeric RGB or RGBA sequence, which should be avoided as value-mapping will have precedence in case its length matches with *x* & *y*.  Please use the *color* keyword-argument or provide a 2-D array with a single row if you intend to specify the same RGB or RGBA value for all points.\n"
          ],
          "name": "stderr"
        },
        {
          "output_type": "display_data",
          "data": {
            "image/png": "[encoded data removed]",
            "text/plain": [
              "<Figure size 432x288 with 1 Axes>"
            ]
          },
          "metadata": {
            "tags": [],
            "needs_background": "light"
          }
        }
      ]
    }
  ]
}